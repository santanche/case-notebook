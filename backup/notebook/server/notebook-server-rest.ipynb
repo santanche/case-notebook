{
 "cells": [
  {
   "cell_type": "markdown",
   "metadata": {},
   "source": [
    "# Notebook Server\n",
    "It uses the Jupyter Kernel Gateway: https://test-jupyterkernelgateway.readthedocs.io/en/latest/index.html\n",
    "\n",
    "# Turn any Jupyter notebook into a REST API\n",
    "\n",
    "Service adapted to POST from the tutorial of Eliot Andres:\n",
    "https://ndres.me/post/jupyter-notebook-rest-api/"
   ]
  },
  {
   "cell_type": "code",
   "execution_count": 1,
   "metadata": {},
   "outputs": [],
   "source": [
    "import json\n",
    "import sys\n",
    "from notebookServer import NotebookDM"
   ]
  },
  {
   "cell_type": "code",
   "execution_count": null,
   "metadata": {},
   "outputs": [],
   "source": [
    "# POST /cases-list\n",
    "req = json.loads(REQUEST)\n",
    "dataman = NotebookDM()\n",
    "print(json.dumps({'casesList': dataman.casesList()}))"
   ]
  },
  {
   "cell_type": "code",
   "execution_count": null,
   "metadata": {},
   "outputs": [],
   "source": [
    "# POST /load-case\n",
    "req = json.loads(REQUEST)\n",
    "body = req['body']\n",
    "caseName = body['caseName']\n",
    "\n",
    "dataman = NotebookDM()\n",
    "result = dataman.loadCase(caseName)\n",
    "print(json.dumps({'caseMd': result}))"
   ]
  },
  {
   "cell_type": "code",
   "execution_count": null,
   "metadata": {},
   "outputs": [],
   "source": [
    "# POST /save-case\n",
    "req = json.loads(REQUEST)\n",
    "body = req['body']\n",
    "caseName = body['caseName']\n",
    "caseText = body['caseText']\n",
    "\n",
    "dataman = NotebookDM()\n",
    "versionFile = dataman.saveCase(caseName, caseText)\n",
    "print(json.dumps({\"versionFile\": versionFile}))"
   ]
  },
  {
   "cell_type": "code",
   "execution_count": null,
   "metadata": {},
   "outputs": [],
   "source": [
    "# POST /load-template\n",
    "req = json.loads(REQUEST)\n",
    "body = req['body']\n",
    "templateName = body['templateName']\n",
    "\n",
    "dataman = NotebookDM()\n",
    "result = dataman.loadTemplate(templateName)\n",
    "print(json.dumps({'template': result}))"
   ]
  },
  {
   "cell_type": "code",
   "execution_count": null,
   "metadata": {},
   "outputs": [],
   "source": [
    "# POST /prepare-case-html\n",
    "req = json.loads(REQUEST)\n",
    "body = req['body']\n",
    "caseName = body['caseName']\n",
    "\n",
    "dataman = NotebookDM()\n",
    "dataman.prepareCaseHTML(caseName)\n",
    "print(json.dumps({\"status\": \"ok\"}))"
   ]
  },
  {
   "cell_type": "code",
   "execution_count": null,
   "metadata": {},
   "outputs": [],
   "source": [
    "# POST /save-knot-html\n",
    "req = json.loads(REQUEST)\n",
    "body = req['body']\n",
    "caseName = body['caseName']\n",
    "knotFile = body['knotFile']\n",
    "knotHTML = body['knotHTML']\n",
    "\n",
    "dataman = NotebookDM()\n",
    "dataman.saveKnotHTML(caseName, knotFile, knotHTML)\n",
    "print(json.dumps({\"status\": \"ok\"}))"
   ]
  },
  {
   "cell_type": "code",
   "execution_count": null,
   "metadata": {},
   "outputs": [],
   "source": [
    "# POST /save-case-script\n",
    "req = json.loads(REQUEST)\n",
    "body = req['body']\n",
    "caseName = body['caseName']\n",
    "scriptFile = body['scriptFile']\n",
    "scriptJS = body['scriptJS']\n",
    "\n",
    "dataman = NotebookDM()\n",
    "dataman.saveCaseScript(caseName, scriptFile, scriptJS)\n",
    "print(json.dumps({\"status\": \"ok\"}))"
   ]
  }
 ],
 "metadata": {
  "kernelspec": {
   "display_name": "Python 3",
   "language": "python",
   "name": "python3"
  },
  "language_info": {
   "codemirror_mode": {
    "name": "ipython",
    "version": 3
   },
   "file_extension": ".py",
   "mimetype": "text/x-python",
   "name": "python",
   "nbconvert_exporter": "python",
   "pygments_lexer": "ipython3",
   "version": "3.6.7"
  }
 },
 "nbformat": 4,
 "nbformat_minor": 2
}
