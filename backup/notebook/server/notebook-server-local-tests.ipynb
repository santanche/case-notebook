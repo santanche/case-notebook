{
 "cells": [
  {
   "cell_type": "markdown",
   "metadata": {},
   "source": [
    "# Server Local Tests\n",
    "\n",
    "Services tested localy before be transformed in a REST call."
   ]
  },
  {
   "cell_type": "code",
   "execution_count": 1,
   "metadata": {},
   "outputs": [],
   "source": [
    "import json\n",
    "import sys\n",
    "# sys.path.insert(0, \"..\")\n",
    "from notebookServer import NotebookDM"
   ]
  },
  {
   "cell_type": "markdown",
   "metadata": {},
   "source": [
    "# Case List"
   ]
  },
  {
   "cell_type": "code",
   "execution_count": 2,
   "metadata": {},
   "outputs": [
    {
     "name": "stdout",
     "output_type": "stream",
     "text": [
      "['case004-cabot', 'case001-development', 'case002-original-forklift', 'case003-zombie-health']\n"
     ]
    }
   ],
   "source": [
    "dataman = NotebookDM()\n",
    "print(dataman.casesList())"
   ]
  },
  {
   "cell_type": "markdown",
   "metadata": {},
   "source": [
    "# Load Case"
   ]
  },
  {
   "cell_type": "code",
   "execution_count": 2,
   "metadata": {
    "scrolled": false
   },
   "outputs": [
    {
     "name": "stdout",
     "output_type": "stream",
     "text": [
      "{\"caseMd\": \"== Case 001 (presentation) ==\\nMan, 51 years old, present to an emergency department complaining of chest pain.\\n![Forklift](images/patient-in-bed.svg)\\n++ Start -> Level 1\\n\\n== Level 1 (dialog) ==\\n:Nurse: Doctor, we have a man (51 years old) who entered the emergency department reporting chest pain. His vital signs are ABP: 144x92mmHG; HR: 78bpm; RR: 21rpm; Temp: 37oC; O2Sat: 98%.\\n\\n:Doctor: Let\\u2019s go!\\n\\n:Patient: Doctor, I am feeling chest pain since yesterday. The pain is continuous and is located just in the middle of my chest, worsening when I breathe and when I lay down on my bed. I suffer from arterial hypertension and smoke 20 cigarettes every day. My father had a \\u201cheart attack\\u201d at my age and I am very worried about it. \\n\\n:Doctor: I did a physical examination and the cardiac and pulmonary auscultation are normal; chest pain does not worse with palpation of the thorax; there is no jugular stasis nor lower limb edema.\\n\\n:Jacinto: What do you want to do?\\n\\n++ Generate hypothesis (control) -> Generate hypothesis 1\\n++ More information (control) -> More information 1\\n++ Call the supervisor (control) -> Call the supervisor 1\\n\\n== Generate hypothesis 1 (tablet) ==\\nWhat is your main diagnostic hypothesis?\\n{?1 hypothesis:mesh}\\n\\n++ Submit hypothesis -> Check hypothesis 1\\n\\n== More information 1 (presnotice) ==\\nThe patient never felt chest pain before. He exercises regularly and has lost weight in the last three months. He takes amlodipine and losartan regularly.\\n\\nTwo weeks ago, he had an auto-limited gastroenteritis episode. He denies recent travels and surgery .\\n\\n== Call the supervisor 1 ==\\nHi! I am glad that you called me. Chest pain is an important complaint at the emergency department and we have to exclude the fatal causes: myocardial infarction (MI), acute aortic dissection (AAD), pulmonary embolism PE), hypertensive pneumothorax (HP), and Boerhaave Syndrome (BS).\\n\\nThe best way to find out what is happening with your patient, my young padawan, is to gather as much information as possible through history taking and physical examination. We need to search for the signs and symptoms that can guide our clinical reasoning process by changing the pre-test probabilities of each disease.\\n\\nDo you know the concept of Likelihood ratio (LR)? -> Likelihood Ratio\\n\\n++ Clinical History Myocardial Infarction\\n++ Physical Examination Myocardial Infarction\\n++ Clinical History Aortic Dissection\\n++ Physical Examination Aortic Dissection\\n++ Pulmonary Embolism Wells Criteria\\n++ Back to the Case -> Level 1\\n\\n\\nHypertensive pneumothorax is more common in tall and thin young adults (primary pneumothorax) or in patients with chronic pulmonary diseases or chest trauma (secondary pneumothorax). On physical examination, we expect asymmetry in lung auscultation and the trachea may be dislocated to the contralateral side of the pneumothorax.\\n\\nBoerhaave Syndrome is more common in patients who presented vomiting before the chest pain started, were submitted to endoscopic procedures or had chest trauma.\\n\\nHow does this information can help you to solve your case?\\n\\n== Likelihood Ratio (notice) ==\\n\\nLikelihood ratio (LR) - like sensitivity and specificity, LR describe the discriminatory power of features in a clinical context, estimating the probability of disease. When the LR is higher than 1, the feature increases the probability; when lower than 1, reduces it.\\n\\n== Clinical History Myocardial Infarction (notice) ==\\n![Clinical History Myocardial Infarction](images/ebm-clinical-history-myocardial-infarction.png)\\n\\n== Physical Examination Myocardial Infarction (notice) ==\\n![Physical Examination Myocardial Infarction](images/ebm-physical-examination-myocardial-infarction.png)\\n\\n== Clinical History Aortic Dissection (notice) ==\\n![Clinical History Aortic Dissection](images/ebm-clinical-history-aortic-dissection.png)\\n\\n== Physical Examination Aortic Dissection (notice) ==\\n![Physical Examination Aortic Dissection](images/ebm-physical-examination-aortic-dissection.png)\\n\\n== Pulmonary Embolism Wells Criteria (notice) ==\\n![Pulmonary Embolism Wells Criteria](images/ebm-pulmonary-embolism-wells-criteria.png)\\n\\n== Check hypothesis 1 (tablet) ==\\n\\nLet us check out your hypothesis.\\n\\nIn the next screen, highlight in green the findings that corroborate your hypothesis, \\nin blue those that are neutral and in red the ones speaking against your hypothesis.\\n\\n++ Proceed -> Check hypothesis 1b\\n\\n== Check hypothesis 1b (selector) ==\\n\\n{{symptoms#contribution to diagnostics: ,+,=,-;lightgrey,green,blue,red\\nNurse: Doctor, please you have to evaluate a {man(male)} ({51 years-old(aging=51)#=}) who entered the emergency department reporting {chest pain#=}.His vital signs are {ABP: 144x92mmHG#=}; {HR: 78bpm#=}; {RR: 21rpm#=}; {Temp: 37oC#=}; {O2Sat: 98%#=}.\\n\\nPatient: Doctor, I am feeling chest pain since yesterday. The {pain is continuous#=} and {is located just in the middle of my chest#=}, {worsening when I breathe#+} and {when I lay down on my bed#+}. I have {arterial hypertension#-} and {I smoke 20 cigarettes(smoking=20/day)#-} every day. {My father had a \\\"heart attack\\\"#-} at my age and I am very worried about it.\\n\\nYou perform physical examination: {cardiac and pulmonary auscultation are normal#-}; {chest pain does not worse with palpation of the thorax#=}; {there is no jugular stasis#=} {nor lower limb edema#=}.\\n}}\\n++ Submit -> Order EKG \\n\\n== Order EKG ==\\nOur patient denies any recent long trip, immobilization or surgery.\\n\\nThe blood pressure is symmetric in the four limbs. \\n\\nGame: What do you want to do?\\n++ Generate hypothesis -> Generate hypothesis 2\\n++ Get more information -> More information 2\\n++ Call the supervisor -> Call the supervisor 2\\n\\nEKG:\\n\\n![EKG](images/ekg-original.png)\\n\\n== Generate hypothesis 2 (tablet) ==\\nWhat is your main diagnostic hypothesis?\\n{?1 hypothesis:mesh}\\n++ Submit hypothesis -> Check hypothesis 2\\n\\n== More information 2 (notice) ==\\n\\nEKG description\\n![EKG Description](images/ekg-description.png)\\n\\n++ EKG Analysis\\n\\n== EKG Analysis (notice) ==\\n\\nImage zoom.\\n\\n== Call the supervisor 2 (presnotice) ==\\n![EKG-A](images/ampliacao-eletro.gif)\\n\\nWe did not find features that increase the likelihood of myocardial ischemia. Moreover, our patient has a pleuritic chest pain that gets worse when the patient lays down.\\n\\nIn the EKG we found ST-segment elevation in almost all leads. Also, we found a depression of the PR segment in the DII lead.\\n\\n== Check hypothesis 2 ==\\n![EKG-A](images/ampliacao-eletro.gif)\\n++ Submit -> Final report\\n\\n== Final report ==\\n# Feedback\\nScore: ...\\nEvaluation: ...\\nTwo columns\"}\n"
     ]
    }
   ],
   "source": [
    "dataman = NotebookDM()\n",
    "result = dataman.loadCase(\"case001-development\")\n",
    "print(json.dumps({\"caseMd\": result}))"
   ]
  },
  {
   "cell_type": "markdown",
   "metadata": {},
   "source": [
    "# Save Case"
   ]
  },
  {
   "cell_type": "code",
   "execution_count": 2,
   "metadata": {},
   "outputs": [
    {
     "name": "stdout",
     "output_type": "stream",
     "text": [
      "{\"versionFile\": \"case_2019-01-30-14-54-36_b9f6a25c-24af-11e9-8467-a088b44f5e74.md\"}\n"
     ]
    }
   ],
   "source": [
    "dataman = NotebookDM()\n",
    "md = \"== Case Test ==\\nThis is a case test.\"\n",
    "versionFile = dataman.saveCase(\"case001-development\", md)\n",
    "print(json.dumps({\"versionFile\": versionFile}))"
   ]
  },
  {
   "cell_type": "markdown",
   "metadata": {},
   "source": [
    "# Load Template"
   ]
  },
  {
   "cell_type": "code",
   "execution_count": 4,
   "metadata": {},
   "outputs": [
    {
     "name": "stdout",
     "output_type": "stream",
     "text": [
      "{\"template\": \"<div class=\\\"panel_presentation\\\">\\n  <div class=\\\"panel_case\\\">\\n    <!-- <div class=\\\"case_title\\\">{title}</div> -->\\n\\n    <div class=\\\"case_text\\\">\\n    {description}\\n    <div class=\\\"case_link\\\"><a href=\\\"#\\\" onclick=\\\"goBack()\\\">Return</a></div>\\n    </div>\\n    \\n  </div>\\n</div>\"}\n"
     ]
    }
   ],
   "source": [
    "dataman = NotebookDM()\n",
    "result = dataman.loadTemplate(\"notice\")\n",
    "print(json.dumps({\"template\": result}))"
   ]
  },
  {
   "cell_type": "markdown",
   "metadata": {},
   "source": [
    " # Prepare Case HTML"
   ]
  },
  {
   "cell_type": "code",
   "execution_count": 2,
   "metadata": {},
   "outputs": [
    {
     "name": "stdout",
     "output_type": "stream",
     "text": [
      "{\"status\": \"ok\"}\n"
     ]
    }
   ],
   "source": [
    "dataman = NotebookDM()\n",
    "dataman.prepareCaseHTML(\"case001-development\")\n",
    "print(json.dumps({\"status\": \"ok\"}))"
   ]
  },
  {
   "cell_type": "markdown",
   "metadata": {},
   "source": [
    "# Save Knot HTML"
   ]
  },
  {
   "cell_type": "code",
   "execution_count": 3,
   "metadata": {},
   "outputs": [
    {
     "name": "stdout",
     "output_type": "stream",
     "text": [
      "{\"status\": \"ok\"}\n"
     ]
    }
   ],
   "source": [
    "dataman = NotebookDM()\n",
    "html = \"<html><body><h1>This is a test</h1></body></html>\"\n",
    "dataman.saveKnotHTML(\"case001-development\", \"test.html\", html)\n",
    "print(json.dumps({\"status\": \"ok\"}))"
   ]
  },
  {
   "cell_type": "markdown",
   "metadata": {},
   "source": [
    "# Save Case Script"
   ]
  },
  {
   "cell_type": "code",
   "execution_count": 2,
   "metadata": {},
   "outputs": [
    {
     "name": "stdout",
     "output_type": "stream",
     "text": [
      "{\"status\": \"ok\"}\n"
     ]
    }
   ],
   "source": [
    "dataman = NotebookDM()\n",
    "js = \"// some JS script\"\n",
    "dataman.saveCaseScript(\"case001-development\", \"test.js\", js)\n",
    "print(json.dumps({\"status\": \"ok\"}))"
   ]
  }
 ],
 "metadata": {
  "kernelspec": {
   "display_name": "Python 3",
   "language": "python",
   "name": "python3"
  },
  "language_info": {
   "codemirror_mode": {
    "name": "ipython",
    "version": 3
   },
   "file_extension": ".py",
   "mimetype": "text/x-python",
   "name": "python",
   "nbconvert_exporter": "python",
   "pygments_lexer": "ipython3",
   "version": "3.6.7"
  }
 },
 "nbformat": 4,
 "nbformat_minor": 2
}
