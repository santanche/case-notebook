{
 "cells": [
  {
   "cell_type": "code",
   "execution_count": 1,
   "metadata": {},
   "outputs": [
    {
     "data": {
      "application/vnd.jupyter.widget-view+json": {
       "model_id": "c84f3deef9f6417e9781128cc34e4cac",
       "version_major": 2,
       "version_minor": 0
      },
      "text/plain": [
       "Accordion()"
      ]
     },
     "metadata": {},
     "output_type": "display_data"
    }
   ],
   "source": [
    "import sys\n",
    "sys.path.insert(0, \"../../lib\")\n",
    "from caseNotebookLib import HealthDM\n",
    "\n",
    "HealthDM.createProfile()"
   ]
  },
  {
   "cell_type": "markdown",
   "metadata": {
    "slideshow": {
     "slide_type": "slide"
    }
   },
   "source": [
    "== Case 001 ==\n",
    "![Forklift](images/case-forklift.png)\n",
    "Man, 51 years old, present to an emergency department complaining of chest pain.\n",
    "++ Start -> Level 1\n",
    "\n",
    "== Level 1 (dialog) ==\n",
    "Nurse: Doctor, we have a man (51 years old) who entered the emergency department reporting chest pain. His vital signs are ABP: 144x92mmHG; HR: 78bpm; RR: 21rpm; Temp: 37oC; O2Sat: 98%.\n",
    "\n",
    "Doctor: Let’s go!\n",
    "\n",
    "Patient: Doctor, I am feeling {chest pain} since yesterday. The pain is continuous and is located just in the middle of my chest, worsening when I breathe and when I lay down on my bed. I suffer from arterial hypertension and smoke 20 cigarettes every day. My father had a “heart attack” at my age and I am very worried about it. \n",
    "\n",
    "Doctor: I did a physical examination and the cardiac and pulmonary auscultation are normal; chest pain does not worse with palpation of the thorax; there is no jugular stasis nor lower limb edema.\n",
    "\n",
    "Jacinto: What do you want to do?\n",
    "\n",
    "++ Generate hypothesis (control) -> Generate hypothesis 1\n",
    "++ More information (control) -> More information 1\n",
    "++ Call the supervisor (control) -> Call the supervisor 1\n",
    "\n",
    "== Generate hypothesis 1 ==\n",
    "What is your main diagnostic hypothesis?\n",
    "{?1 hypothesis:mesh}\n",
    "++ Submit hypothesis -> Check hypothesis 1\n",
    "\n",
    "== More information 1 (notice) ==\n",
    "The patient never felt chest pain before. He exercises regularly and has lost weight in the last three months. He takes amlodipine and losartan regularly.\n",
    "\n",
    "Two weeks ago, he had an auto-limited gastroenteritis episode. He denies recent travels and surgery .\n",
    "\n",
    "== Call the supervisor 1 (notice) ==\n",
    "Hi! I am glad that you called me. Chest pain is an important complaint at the emergency department and we have to exclude the fatal causes: myocardial infarction (MI), acute aortic dissection (AAD), pulmonary embolism PE), hypertensive pneumothorax (HP), and Boerhaave Syndrome (BS).\n",
    "\n",
    "The best way to find out what is happening with your patient, my young padawan, is to gather as much information as possible through history taking and physical examination. We need to search for the signs and symptoms that can guide our clinical reasoning process by changing the pre-test probabilities of each disease.\n",
    "\n",
    "Do you know the concept of Likelihood ratio (LR)? -> Likelihood Ratio\n",
    "\n",
    "++ Clinical History Myocardial Infarction\n",
    "++ Physical Examination Myocardial Infarction\n",
    "++ Clinical History Aortic Dissection\n",
    "++ Physical Examination Aortic Dissection\n",
    "++ Pulmonary Embolism Wells Criteria\n",
    "\n",
    "Hypertensive pneumothorax is more common in tall and thin young adults (primary pneumothorax) or in patients with chronic pulmonary diseases or chest trauma (secondary pneumothorax). On physical examination, we expect asymmetry in lung auscultation and the trachea may be dislocated to the contralateral side of the pneumothorax.\n",
    "\n",
    "Boerhaave Syndrome is more common in patients who presented vomiting before the chest pain started, were submitted to endoscopic procedures or had chest trauma.\n",
    "\n",
    "How does this information can help you to solve your case?\n",
    "\n",
    "== Likelihood Ratio (notice) ==\n",
    "\n",
    "Likelihood ratio (LR) - like sensitivity and specificity, LR describe the discriminatory power of features in a clinical context, estimating the probability of disease. When the LR is higher than 1, the feature increases the probability; when lower than 1, reduces it.\n",
    "\n",
    "== Clinical History Myocardial Infarction (notice) ==\n",
    "![Clinical History Myocardial Infarction](images/ebm-clinical-history-myocardial-infarction.png)\n",
    "\n",
    "== Physical Examination Myocardial Infarction (notice) ==\n",
    "![Physical Examination Myocardial Infarction](images/ebm-physical-examination-myocardial-infarction.png)\n",
    "\n",
    "== Clinical History Aortic Dissection (notice) ==\n",
    "![Clinical History Aortic Dissection](images/ebm-clinical-history-aortic-dissection.png)\n",
    "\n",
    "== Physical Examination Aortic Dissection (notice) ==\n",
    "![Physical Examination Aortic Dissection](images/ebm-physical-examination-aortic-dissection.png)\n",
    "\n",
    "== Pulmonary Embolism Wells Criteria (notice) ==\n",
    "![Pulmonary Embolism Wells Criteria](images/ebm-pulmonary-embolism-wells-criteria.png)\n",
    "\n",
    "== Check hypothesis 1 (selector) ==\n",
    "Among all patient features, signs, and symptoms highlighted on text, select all that increase the probability of your diagnostic hypothesis:\n",
    "\n",
    "Nurse: Doctor, please you have to evaluate a man ({51 years-old}(=)) who entered the emergency department reporting {chest pain}(=).His vital signs are {ABP: 144x92mmHG}(=); {HR: 78bpm}(=); {RR: 21rpm}(=); {Temp: 37oC}(=); {O2Sat: 98%}(=).\n",
    "\n",
    "Patient: Doctor, I am feeling chest pain since yesterday. The {pain is continuous}(=) and {is located just in the middle of my chest}(=), {worsening when I breathe}(+) and {when I lay down on my bed}(+). I have {arterial hypertension}(-) and {I smoke 20 cigarettes}(-) every day. {My father had a \"heart attack\"}(-) at my age and I am very worried about it.\n",
    "\n",
    "You perform physical examination: {cardiac and pulmonary auscultation are normal}(-); {chest pain does not worse with palpation of the thorax}(=); {there is no jugular stasis}(=) {nor lower limb edema}(=).\n",
    "\n",
    "++ Submit -> Order EKG \n",
    "\n",
    "== Order EKG ==\n",
    "Our patient denies any recent long trip, immobilization or surgery.\n",
    "\n",
    "The blood pressure is symmetric in the four limbs. \n",
    "\n",
    "Game: What do you want to do?\n",
    "++ Generate hypothesis -> Generate hypothesis 2\n",
    "++ Get more information -> More information 2\n",
    "++ Call the supervisor -> Call the supervisor 2\n",
    "\n",
    "EKG:\n",
    "\n",
    "![EKG](images/ekg2.png)\n",
    "\n",
    "== Generate hypothesis 2 ==\n",
    "What is your main diagnostic hypothesis?\n",
    "{?1 hypothesis:mesh}\n",
    "++ Submit hypothesis -> Check hypothesis 2\n",
    "\n",
    "== More information 2 (notice) ==\n",
    "\n",
    "EKG description\n",
    "![EKG Description](images/ekg-description.png)\n",
    "\n",
    "++ EKG Analysis\n",
    "\n",
    "== EKG Analysis (notice) ==\n",
    "\n",
    "Image zoom.\n",
    "\n",
    "== Call the supervisor 2 (notice) ==\n",
    "We did not find features that increase the likelihood of myocardial ischemia. Moreover, our patient has a pleuritic chest pain that gets worse when the patient lays down.\n",
    "\n",
    "In the EKG we found ST-segment elevation in almost all leads. Also, we found a depression of the PR segment in the DII lead.\n",
    "\n",
    "== Check hypothesis 2 ==\n",
    "![EKG-A](images/ampliacao-eletro.gif)\n",
    "++ Submit -> Final report\n",
    "\n",
    "== Final report ==\n",
    "# Feedback\n",
    "Score: ...\n",
    "Evaluation: ...\n",
    "Two columns"
   ]
  },
  {
   "cell_type": "code",
   "execution_count": 2,
   "metadata": {},
   "outputs": [
    {
     "data": {
      "text/html": [
       "<iframe width=\"100%\" height=\"800px\" src=\"html/index.html\"><iframe>"
      ],
      "text/plain": [
       "<IPython.core.display.HTML object>"
      ]
     },
     "metadata": {},
     "output_type": "display_data"
    }
   ],
   "source": [
    "%%HTML\n",
    "<iframe width=\"100%\" height=\"800px\" src=\"html/index.html\"><iframe>"
   ]
  },
  {
   "cell_type": "code",
   "execution_count": null,
   "metadata": {},
   "outputs": [],
   "source": []
  }
 ],
 "metadata": {
  "kernelspec": {
   "display_name": "Python 3",
   "language": "python",
   "name": "python3"
  },
  "language_info": {
   "codemirror_mode": {
    "name": "ipython",
    "version": 3
   },
   "file_extension": ".py",
   "mimetype": "text/x-python",
   "name": "python",
   "nbconvert_exporter": "python",
   "pygments_lexer": "ipython3",
   "version": "3.6.7"
  }
 },
 "nbformat": 4,
 "nbformat_minor": 2
}
