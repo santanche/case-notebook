{
 "cells": [
  {
   "cell_type": "code",
   "execution_count": 1,
   "metadata": {},
   "outputs": [
    {
     "data": {
      "application/vnd.jupyter.widget-view+json": {
       "model_id": "bd456dc5580c4471943aaccf29052159",
       "version_major": 2,
       "version_minor": 0
      },
      "text/plain": [
       "Accordion()"
      ]
     },
     "metadata": {},
     "output_type": "display_data"
    }
   ],
   "source": [
    "import sys\n",
    "sys.path.insert(0, \"../../lib\")\n",
    "from caseNotebookLib import HealthDM\n",
    "\n",
    "HealthDM.createProfile()"
   ]
  },
  {
   "cell_type": "markdown",
   "metadata": {
    "slideshow": {
     "slide_type": "slide"
    }
   },
   "source": [
    "=== Syncope of a Forklift Driver ===\n",
    "Young man had a syncope while driving a forklift.\n",
    "![Forklift](images/case-forklift.png)\n",
    "++ -> Emergency room\n",
    "\n",
    "=== Emergency room ===\n",
    "Nurse: Doctor, please come to the Emergency room, we have a difficult case there.\n",
    "\n",
    "Nurse: The patient is a young {man}(male), {23 years old}(aging=23). He had a {syncope} while driving a forklift. His colleagues called an ambulance and he has just arrived.\n",
    "\n",
    "What do you want to do?\n",
    "++ Make a decision\n",
    "++ More information\n",
    "++ Call the supervisor\n",
    "\n",
    "=== Make a decision ===\n",
    "What is the next step?\n",
    "++ Get vital data\n",
    "++ Offer oxygen\n",
    "++ Perform an EKG\n",
    "++ Get a brain scan\n",
    "\n",
    "=== Get vital data (notice) ===\n",
    "You enter the emergency room and the patient is laid on the bed, {conscious}(consciousness=yes), {oriented}(orientation), but {distressed}(suffering). {Respiratory rate= 32 mov/min}; {Heart rate= 150bpm}; {Blood pressure= 82x66mmHg}; {Oxygen saturation= 82%}.\n",
    "\n",
    "=== Offer oxygen (notice) ===\n",
    "Offer oxygen.\n",
    "\n",
    "=== Perform an EKG (notice) ===\n",
    "An EKG was obtained:\n",
    "![EKG1](images/ekg.png)\n",
    "\n",
    "=== More information (notice) ===\n",
    "His colleagues found him sited inside the forklift, {without signs of trauma}(no trauma). After they took him out and laid him down, the patient woke up but still complained of {dizziness} and could not stand up.\n",
    "There was {no blood} at the scene, neither other signs of trauma. The patient had {no previous syncope episodes}(no syncope=history), he {drinks alcohol occasionally}(alcohol drinking=occasionally), and {smokes 10 cigarettes a day}(smoking=10/day).\n",
    "\n",
    "=== Get a brain scan (notice) ===\n",
    "Get a brain scan.\n",
    "\n",
    "=== Call the supervisor (notice) ===\n",
    "(write the explanation here) Syncope is one of the most common complains in the emergency department."
   ]
  },
  {
   "cell_type": "code",
   "execution_count": 2,
   "metadata": {},
   "outputs": [
    {
     "data": {
      "text/html": [
       "<iframe width=\"100%\" height=\"800px\" src=\"html/index.html\"><iframe>"
      ],
      "text/plain": [
       "<IPython.core.display.HTML object>"
      ]
     },
     "metadata": {},
     "output_type": "display_data"
    }
   ],
   "source": [
    "%%HTML\n",
    "<iframe width=\"100%\" height=\"800px\" src=\"html/index.html\"><iframe>"
   ]
  },
  {
   "cell_type": "code",
   "execution_count": null,
   "metadata": {},
   "outputs": [],
   "source": []
  }
 ],
 "metadata": {
  "kernelspec": {
   "display_name": "Python 3",
   "language": "python",
   "name": "python3"
  },
  "language_info": {
   "codemirror_mode": {
    "name": "ipython",
    "version": 3
   },
   "file_extension": ".py",
   "mimetype": "text/x-python",
   "name": "python",
   "nbconvert_exporter": "python",
   "pygments_lexer": "ipython3",
   "version": "3.6.7"
  }
 },
 "nbformat": 4,
 "nbformat_minor": 2
}
