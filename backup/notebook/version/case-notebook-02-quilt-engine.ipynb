{
 "cells": [
  {
   "cell_type": "code",
   "execution_count": 4,
   "metadata": {},
   "outputs": [
    {
     "name": "stdout",
     "output_type": "stream",
     "text": [
      "Downloading package metadata...\n",
      "santanche/ehealth/mesh/year2018 already installed.\n",
      "Overwrite? (y/n) y\n",
      "Fragments already downloaded\n"
     ]
    }
   ],
   "source": [
    "import quilt\n",
    "quilt.install(\"santanche/ehealth/mesh/year2018\")\n",
    "from quilt.data.santanche.ehealth import mesh"
   ]
  },
  {
   "cell_type": "code",
   "execution_count": 5,
   "metadata": {},
   "outputs": [],
   "source": [
    "import pandas as pd\n",
    "\n",
    "class HealthDM(object):\n",
    "\n",
    "    @classmethod\n",
    "    def findMeshCode(cls, heading):\n",
    "        df = mesh.year2018()\n",
    "        codeSet = df.loc[df[\"mesh_heading\"] == heading]\n",
    "\n",
    "        code = \"none\"\n",
    "        if codeSet.size > 0:\n",
    "            code = codeSet.iat[0,1]\n",
    "\n",
    "        return \"#mesh_heading#\" + heading + \"#tree_number#\" + code"
   ]
  },
  {
   "cell_type": "markdown",
   "metadata": {
    "slideshow": {
     "slide_type": "slide"
    }
   },
   "source": [
    "# Teste\n",
    "\n",
    "{Myocardial Infarction}\n",
    "\n",
    "+ escolha\n",
    "\n",
    "* item\n",
    "  * estranho\n",
    "\n",
    "=== titulo ===\n",
    "\n",
    "{Aortic Dissection}"
   ]
  },
  {
   "cell_type": "markdown",
   "metadata": {},
   "source": [
    "# Case 29\n",
    "\n",
    "*Patient* a man 55 years old; rather fat; subject to frequent attacks of winter cough, with asthmatic tendency. For seven years the heart had been noticeably weak and irregular. Pulse 8O; first sound valvular. Apex beat an inch and a half directly below left nipple; no murmurs. No previous rheumatism. Several years ago there was sudden and complete loss of memory, the same questions being repeated as soon as answered. The expression was at the time rather vacant; the pupils were equal and responded to light; there was no motor paralysis. The amnesia lasted all day, disappearing the following morning. The pulse remained 50 for two days. The patient had been previously very anemic, and had had much fatigue and anxiety, with digestive disturbance. The urine always remained normal. In the following years there were occasional attacks of transient numbness in the left arm and leg, and sometimes faint turns with pallor and irregular, feeble pulse. Headache was a frequent symptom; dyspnea on exertion, impaired appetite, and insomnia were constant. There was no apparent loss of flesh. In 1897 life was endangered for two weeks by edema of both lungs, supervening on an attack of {bronchitis}. In the subsequent years the condition improved somewhat, so that the patient could walk half a mile or more and was able to attend to considerable business. In autumn of 1904, be had several attacks of bronchitis, and, finally, an attack of complete hemiplegia resulted fatally in twenty-four hours without recovery of consciousness. Respiration was of the Cheyne-Stokes type, and later stertorous.\n",
    "\n",
    "{Myocardial Infarction}"
   ]
  }
 ],
 "metadata": {
  "kernelspec": {
   "display_name": "Python 3",
   "language": "python",
   "name": "python3"
  },
  "language_info": {
   "codemirror_mode": {
    "name": "ipython",
    "version": 3
   },
   "file_extension": ".py",
   "mimetype": "text/x-python",
   "name": "python",
   "nbconvert_exporter": "python",
   "pygments_lexer": "ipython3",
   "version": "3.6.5"
  }
 },
 "nbformat": 4,
 "nbformat_minor": 2
}
