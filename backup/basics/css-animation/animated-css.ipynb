{
 "cells": [
  {
   "cell_type": "markdown",
   "metadata": {},
   "source": [
    "## Simple CSS Animation\n",
    "Animating a text with CSS. [See in JSFiddle](https://jsfiddle.net/santanche/cu0zs7t6/)\n",
    "\n",
    "Future expansions:\n",
    "[Strategies to animate a Bouncing Ball](https://sparkbox.github.io/bouncy-ball/)"
   ]
  },
  {
   "cell_type": "code",
   "execution_count": 1,
   "metadata": {},
   "outputs": [
    {
     "data": {
      "text/html": [
       "<!DOCTYPE html>\n",
       "<html>\n",
       "<head>\n",
       "    <title>Basic Animation</title>\n",
       "</head>\n",
       "<style>\n",
       "    @keyframes text_displacement {\n",
       "      from {left: 0px;}\n",
       "      to {left: 200px;}\n",
       "    }\n",
       "\n",
       "    #animated_text {\n",
       "      position: relative;\n",
       "      font-family: \"Trebuchet MS\", Helvetica, sans-serif;\n",
       "      font-size: 24pt;\n",
       "      width: 500px;\n",
       "      overflow: hidden;\n",
       "      animation-name: text_displacement;\n",
       "      animation-duration: 4s;\n",
       "    }\n",
       "</style>\n",
       "<body>\n",
       "    <div id=\"animated_text\">\n",
       "        Animated text ->\n",
       "    </div>\n",
       "</body>\n",
       "</html>\n"
      ],
      "text/plain": [
       "<IPython.core.display.HTML object>"
      ]
     },
     "metadata": {},
     "output_type": "display_data"
    }
   ],
   "source": [
    "%%HTML\n",
    "<!DOCTYPE html>\n",
    "<html>\n",
    "<head>\n",
    "    <title>Basic Animation</title>\n",
    "</head>\n",
    "<style>\n",
    "    @keyframes text_displacement {\n",
    "      from {left: 0px;}\n",
    "      to {left: 200px;}\n",
    "    }\n",
    "\n",
    "    #animated_text {\n",
    "      position: relative;\n",
    "      font-family: \"Trebuchet MS\", Helvetica, sans-serif;\n",
    "      font-size: 24pt;\n",
    "      width: 500px;\n",
    "      overflow: hidden;\n",
    "      animation-name: text_displacement;\n",
    "      animation-duration: 4s;\n",
    "    }\n",
    "</style>\n",
    "<body>\n",
    "    <div id=\"animated_text\">\n",
    "        Animated text ->\n",
    "    </div>\n",
    "</body>\n",
    "</html>"
   ]
  },
  {
   "cell_type": "markdown",
   "metadata": {},
   "source": [
    "## CSS Lively Entrance\n",
    "Lively entrance combining CSS animation an overflow:hidden effect to hide outer parts of the block. [See in JSFiddle](https://jsfiddle.net/santanche/te2zknc8/)"
   ]
  },
  {
   "cell_type": "code",
   "execution_count": 7,
   "metadata": {},
   "outputs": [
    {
     "data": {
      "text/html": [
       "<!DOCTYPE html>\n",
       "<html>\n",
       "<head>\n",
       "    <title>Basic Animation</title>\n",
       "</head>\n",
       "<style>\n",
       "    @keyframes block_displacement {\n",
       "      from {left: 100%;}\n",
       "      to {left: 0%;}\n",
       "    }\n",
       "    \n",
       "    .animation_frame {\n",
       "        width: 100%;\n",
       "        overflow: hidden;\n",
       "    }\n",
       "\n",
       "    #animated_block {\n",
       "      position: relative;\n",
       "      font-family: \"Trebuchet MS\", Helvetica, sans-serif;\n",
       "      font-size: 14pt;\n",
       "      animation-name: block_displacement;\n",
       "      animation-duration: 2s;\n",
       "    }\n",
       "</style>\n",
       "<body>\n",
       "    <div class=\"animation_frame\">\n",
       "        <div id=\"animated_block\">\n",
       "            <img src=\"nurse.png\" width=\"150px\" align=\"left\"></img>\n",
       "            Doctor, please you have to evaluate a man (51 years-old) who entered the emergency department reporting chest pain. His vital signs are ABP: 144x92mmHG; HR: 78bpm; RR: 21rpm; Temp: 37oC; O2Sat: 98%.\n",
       "        </div>\n",
       "    </div>\n",
       "</body>\n",
       "</html>"
      ],
      "text/plain": [
       "<IPython.core.display.HTML object>"
      ]
     },
     "metadata": {},
     "output_type": "display_data"
    }
   ],
   "source": [
    "%%HTML\n",
    "<!DOCTYPE html>\n",
    "<html>\n",
    "<head>\n",
    "    <title>Basic Animation</title>\n",
    "</head>\n",
    "<style>\n",
    "    @keyframes block_displacement {\n",
    "      from {left: 100%;}\n",
    "      to {left: 0%;}\n",
    "    }\n",
    "    \n",
    "    .animation_frame {\n",
    "        width: 100%;\n",
    "        overflow: hidden;\n",
    "    }\n",
    "\n",
    "    #animated_block {\n",
    "      position: relative;\n",
    "      font-family: \"Trebuchet MS\", Helvetica, sans-serif;\n",
    "      font-size: 14pt;\n",
    "      animation-name: block_displacement;\n",
    "      animation-duration: 2s;\n",
    "    }\n",
    "</style>\n",
    "<body>\n",
    "    <div class=\"animation_frame\">\n",
    "        <div id=\"animated_block\">\n",
    "            <img src=\"nurse.png\" width=\"150px\" align=\"left\"></img>\n",
    "            Doctor, please you have to evaluate a man (51 years-old) who entered the emergency department reporting chest pain. His vital signs are ABP: 144x92mmHG; HR: 78bpm; RR: 21rpm; Temp: 37oC; O2Sat: 98%.\n",
    "        </div>\n",
    "    </div>\n",
    "</body>\n",
    "</html>"
   ]
  }
 ],
 "metadata": {
  "kernelspec": {
   "display_name": "Python 3",
   "language": "python",
   "name": "python3"
  },
  "language_info": {
   "codemirror_mode": {
    "name": "ipython",
    "version": 3
   },
   "file_extension": ".py",
   "mimetype": "text/x-python",
   "name": "python",
   "nbconvert_exporter": "python",
   "pygments_lexer": "ipython3",
   "version": "3.6.5"
  }
 },
 "nbformat": 4,
 "nbformat_minor": 2
}
