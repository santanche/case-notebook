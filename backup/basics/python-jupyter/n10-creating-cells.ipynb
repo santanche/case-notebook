{
 "cells": [
  {
   "cell_type": "code",
   "execution_count": 1,
   "metadata": {},
   "outputs": [
    {
     "data": {
      "application/javascript": [
       "\n",
       "// Function that accepts a string of code\n",
       "var create_and_execute_cell_below = function (code){\n",
       "    var nb = Jupyter.notebook\n",
       "\n",
       "    // create cell below this one\n",
       "    nb.insert_cell_below()\n",
       "\n",
       "    // select cell below (the one we have created)\n",
       "    var cell = nb.select_next().get_selected_cell()\n",
       "\n",
       "    // set text in the cell\n",
       "    cell.set_text(code)\n",
       "\n",
       "    // execute cell\n",
       "    cell.execute()\n",
       "}\n",
       "\n",
       "// run the function created above with code 'k = 1'\n",
       "// and it will create a new cell, filled with 'k = 1'\n",
       "// and it will execute that cell.\n",
       "// if you run this cell using [ctrl] + [enter] only one cell\n",
       "// will be created.\n",
       "// if you run this cell using [Shift] + [enter] two cells\n",
       "// will be created, the one of the [Shift] + [enter] command\n",
       "// and the one of the function created above with the code.\n",
       "create_and_execute_cell_below('k = 1')"
      ],
      "text/plain": [
       "<IPython.core.display.Javascript object>"
      ]
     },
     "metadata": {},
     "output_type": "display_data"
    }
   ],
   "source": [
    "%%javascript\n",
    "\n",
    "// Function that accepts a string of code\n",
    "var create_and_execute_cell_below = function (code){\n",
    "    var nb = Jupyter.notebook\n",
    "\n",
    "    // create cell below this one\n",
    "    nb.insert_cell_below()\n",
    "\n",
    "    // select cell below (the one we have created)\n",
    "    var cell = nb.select_next().get_selected_cell()\n",
    "\n",
    "    // set text in the cell\n",
    "    cell.set_text(code)\n",
    "\n",
    "    // execute cell\n",
    "    cell.execute()\n",
    "}\n",
    "\n",
    "// run the function created above with code 'k = 1'\n",
    "// and it will create a new cell, filled with 'k = 1'\n",
    "// and it will execute that cell.\n",
    "// if you run this cell using [ctrl] + [enter] only one cell\n",
    "// will be created.\n",
    "// if you run this cell using [Shift] + [enter] two cells\n",
    "// will be created, the one of the [Shift] + [enter] command\n",
    "// and the one of the function created above with the code.\n",
    "create_and_execute_cell_below('k = 1')"
   ]
  }
 ],
 "metadata": {
  "kernelspec": {
   "display_name": "Python 3",
   "language": "python",
   "name": "python3"
  },
  "language_info": {
   "codemirror_mode": {
    "name": "ipython",
    "version": 3
   },
   "file_extension": ".py",
   "mimetype": "text/x-python",
   "name": "python",
   "nbconvert_exporter": "python",
   "pygments_lexer": "ipython3",
   "version": "3.6.5"
  }
 },
 "nbformat": 4,
 "nbformat_minor": 2
}
