{
 "cells": [
  {
   "cell_type": "markdown",
   "metadata": {},
   "source": [
    "## Styled Button\n",
    "Button customized as a block through CSS. [See in JSFiddle](https://jsfiddle.net/santanche/L3g97tha/)"
   ]
  },
  {
   "cell_type": "code",
   "execution_count": 1,
   "metadata": {},
   "outputs": [
    {
     "data": {
      "text/html": [
       "<html>\n",
       "<head>\n",
       "    <title>Styled Button</title>\n",
       "    <style>\n",
       "        body {\n",
       "          font-family: \"Trebuchet MS\", Helvetica, sans-serif;\n",
       "        }\n",
       "\n",
       "        .dcc_button {\n",
       "          background-color: #383f4f;\n",
       "          color: #e0e9ce;\n",
       "          padding: 14px 25px;\n",
       "          text-align: center;\n",
       "          text-decoration: none;\n",
       "          display: inline-block;\n",
       "        }\n",
       "\n",
       "        .dcc_button:hover {\n",
       "          color: white;\n",
       "        }\n",
       "    </style>\n",
       "</head>\n",
       "<body>\n",
       "    <a class=\"dcc_button\" href=\"#\">Button</a>\n",
       "</body>\n",
       "</html>\n"
      ],
      "text/plain": [
       "<IPython.core.display.HTML object>"
      ]
     },
     "metadata": {},
     "output_type": "display_data"
    }
   ],
   "source": [
    "%%HTML\n",
    "<html>\n",
    "<head>\n",
    "    <title>Styled Button</title>\n",
    "    <style>\n",
    "        body {\n",
    "          font-family: \"Trebuchet MS\", Helvetica, sans-serif;\n",
    "        }\n",
    "\n",
    "        .dcc_button {\n",
    "          background-color: #383f4f;\n",
    "          color: #e0e9ce;\n",
    "          padding: 14px 25px;\n",
    "          text-align: center;\n",
    "          text-decoration: none;\n",
    "          display: inline-block;\n",
    "        }\n",
    "\n",
    "        .dcc_button:hover {\n",
    "          color: white;\n",
    "        }\n",
    "    </style>\n",
    "</head>\n",
    "<body>\n",
    "    <a class=\"dcc_button\" href=\"#\">Button</a>\n",
    "</body>\n",
    "</html>"
   ]
  }
 ],
 "metadata": {
  "kernelspec": {
   "display_name": "Python 3",
   "language": "python",
   "name": "python3"
  },
  "language_info": {
   "codemirror_mode": {
    "name": "ipython",
    "version": 3
   },
   "file_extension": ".py",
   "mimetype": "text/x-python",
   "name": "python",
   "nbconvert_exporter": "python",
   "pygments_lexer": "ipython3",
   "version": "3.6.5"
  }
 },
 "nbformat": 4,
 "nbformat_minor": 2
}
