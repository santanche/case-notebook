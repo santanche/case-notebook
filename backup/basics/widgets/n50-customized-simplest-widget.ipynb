{
 "cells": [
  {
   "cell_type": "markdown",
   "metadata": {},
   "source": [
    "# Simplest customized widget"
   ]
  },
  {
   "cell_type": "code",
   "execution_count": 1,
   "metadata": {},
   "outputs": [],
   "source": [
    "import ipywidgets as widgets\n",
    "from traitlets import Unicode, Int, validate"
   ]
  },
  {
   "cell_type": "code",
   "execution_count": 2,
   "metadata": {},
   "outputs": [],
   "source": [
    "class SceneWidget(widgets.DOMWidget):\n",
    "    _view_name = Unicode('SceneView').tag(sync=True)\n",
    "    _view_module = Unicode('scene').tag(sync=True)\n",
    "    value = Int(0).tag(sync=True)"
   ]
  },
  {
   "cell_type": "code",
   "execution_count": 3,
   "metadata": {},
   "outputs": [
    {
     "data": {
      "application/javascript": [
       "\n",
       "require.undef('scene');\n",
       "\n",
       "define('scene', [\"@jupyter-widgets/base\"],\n",
       "       function(widgets) {\n",
       "\n",
       "    var SceneView = widgets.DOMWidgetView.extend({\n",
       "\n",
       "        render: function() {\n",
       "            this.title = $('<h1 />')\n",
       "            .text('Cena 1');\n",
       "            \n",
       "            this.content = $('<span />')\n",
       "            .text('Esta é a Cena 1');\n",
       "\n",
       "            $(this.el)\n",
       "            .append(this.title)\n",
       "            .append(this.content);\n",
       "        },\n",
       "    });\n",
       "\n",
       "    return {\n",
       "        SceneView : SceneView\n",
       "    };\n",
       "});\n"
      ],
      "text/plain": [
       "<IPython.core.display.Javascript object>"
      ]
     },
     "metadata": {},
     "output_type": "display_data"
    }
   ],
   "source": [
    "%%javascript\n",
    "\n",
    "require.undef('scene');\n",
    "\n",
    "define('scene', [\"@jupyter-widgets/base\"],\n",
    "       function(widgets) {\n",
    "\n",
    "    var SceneView = widgets.DOMWidgetView.extend({\n",
    "\n",
    "        render: function() {\n",
    "            this.title = $('<h1 />')\n",
    "            .text('Cena 1');\n",
    "            \n",
    "            this.content = $('<span />')\n",
    "            .text('Esta é a Cena 1');\n",
    "\n",
    "            $(this.el)\n",
    "            .append(this.title)\n",
    "            .append(this.content);\n",
    "        },\n",
    "    });\n",
    "\n",
    "    return {\n",
    "        SceneView : SceneView\n",
    "    };\n",
    "});"
   ]
  },
  {
   "cell_type": "code",
   "execution_count": 4,
   "metadata": {},
   "outputs": [
    {
     "data": {
      "application/vnd.jupyter.widget-view+json": {
       "model_id": "6bc101328e6d4567a86a1744c61621b6",
       "version_major": 2,
       "version_minor": 0
      },
      "text/plain": [
       "SceneWidget()"
      ]
     },
     "metadata": {},
     "output_type": "display_data"
    }
   ],
   "source": [
    "sc = SceneWidget()\n",
    "sc"
   ]
  }
 ],
 "metadata": {
  "kernelspec": {
   "display_name": "Python 3",
   "language": "python",
   "name": "python3"
  },
  "language_info": {
   "codemirror_mode": {
    "name": "ipython",
    "version": 3
   },
   "file_extension": ".py",
   "mimetype": "text/x-python",
   "name": "python",
   "nbconvert_exporter": "python",
   "pygments_lexer": "ipython3",
   "version": "3.6.5"
  }
 },
 "nbformat": 4,
 "nbformat_minor": 2
}
