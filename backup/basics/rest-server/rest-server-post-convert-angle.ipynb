{
 "cells": [
  {
   "cell_type": "markdown",
   "metadata": {},
   "source": [
    "# Turn any Jupyter notebook into a REST API\n",
    "\n",
    "It uses the Jupyter Kernel Gateway: https://test-jupyterkernelgateway.readthedocs.io/en/latest/index.html\n",
    "\n",
    "Adapted to POST from the tutorial of Eliot Andres:\n",
    "https://ndres.me/post/jupyter-notebook-rest-api/\n",
    "\n",
    "To start the server run in the terminal:\n",
    "~~~~\n",
    "~/.local/bin/jupyter kernelgateway --KernelGatewayApp.api='kernel_gateway.notebook_http' --KernelGatewayApp.seed_uri='~/git/case-notebook/basics/rest-server/rest-server-post-convert-angle.ipynb' --KernelGatewayApp.allow_origin='*' --KernelGatewayApp.allow_methods='POST, GET, OPTIONS' --KernelGatewayApp.allow_headers='Content-Type'\n",
    "~~~~\n",
    "\n",
    "* `--KernelGatewayApp.allow_origin='*'` -> accepts all origins (better restrict in the future)\n",
    "* `--KernelGatewayApp.allow_methods='POST, GET, OPTIONS'` -> accepted types of request\n",
    "* `--KernelGatewayApp.allow_headers='Content-Type'` -> things that can appear in the header\n",
    "\n",
    "Details at:\n",
    "\n",
    "* Jupyter Kernel Gateway configuration: https://test-jupyterkernelgateway.readthedocs.io/en/latest/config-options.html"
   ]
  },
  {
   "cell_type": "code",
   "execution_count": 1,
   "metadata": {},
   "outputs": [],
   "source": [
    "import math\n",
    "import json"
   ]
  },
  {
   "cell_type": "code",
   "execution_count": null,
   "metadata": {},
   "outputs": [],
   "source": [
    "# POST /convert\n",
    "req = json.loads(REQUEST)\n",
    "body = req['body']\n",
    "\n",
    "angle = int(body['angle'])\n",
    "converted = math.radians(angle)\n",
    "print(json.dumps({'convertedAngle': converted}))"
   ]
  }
 ],
 "metadata": {
  "kernelspec": {
   "display_name": "Python 3",
   "language": "python",
   "name": "python3"
  },
  "language_info": {
   "codemirror_mode": {
    "name": "ipython",
    "version": 3
   },
   "file_extension": ".py",
   "mimetype": "text/x-python",
   "name": "python",
   "nbconvert_exporter": "python",
   "pygments_lexer": "ipython3",
   "version": "3.6.7"
  }
 },
 "nbformat": 4,
 "nbformat_minor": 2
}
