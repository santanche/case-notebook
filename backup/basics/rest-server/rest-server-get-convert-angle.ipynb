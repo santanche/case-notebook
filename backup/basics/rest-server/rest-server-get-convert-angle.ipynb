{
 "cells": [
  {
   "cell_type": "markdown",
   "metadata": {},
   "source": [
    "# Turn any Jupyter notebook into a REST API\n",
    "\n",
    "It uses the Jupyter Kernel Gateway: https://test-jupyterkernelgateway.readthedocs.io/en/latest/index.html\n",
    "\n",
    "From the tutorial of Eliot Andres:\n",
    "https://ndres.me/post/jupyter-notebook-rest-api/\n",
    "\n",
    "To start the server run in the terminal:\n",
    "~~~~\n",
    "~/.local/bin/jupyter kernelgateway --KernelGatewayApp.api='kernel_gateway.notebook_http' --KernelGatewayApp.seed_uri='~/git/case-notebook/basics/rest-server/rest-server-get-convert-angle.ipynb' --KernelGatewayApp.allow_origin='*'\n",
    "~~~~\n",
    "\n",
    "* `--KernelGatewayApp.allow_origin='*'` -> accepts all origins (better restrict in the future)\n",
    "\n",
    "You can try a client from the terminal:\n",
    "~~~~\n",
    "curl \"http://127.0.0.1:8888/convert?angle=180\"\n",
    "~~~~\n",
    "\n",
    "Details at:\n",
    "\n",
    "* Jupyter Kernel Gateway configuration: https://test-jupyterkernelgateway.readthedocs.io/en/latest/config-options.html"
   ]
  },
  {
   "cell_type": "code",
   "execution_count": 1,
   "metadata": {},
   "outputs": [],
   "source": [
    "import math\n",
    "import json"
   ]
  },
  {
   "cell_type": "code",
   "execution_count": null,
   "metadata": {},
   "outputs": [],
   "source": [
    "# GET /convert\n",
    "req = json.loads(REQUEST)\n",
    "args = req['args']\n",
    "\n",
    "if 'angle' not in args:\n",
    "  print(json.dumps({'convertedAngle': None}))\n",
    "else:\n",
    "  # Note the [0] when retrieving the argument.\n",
    "  # This is because you could potentially pass multiple angles.\n",
    "  angle = int(args['angle'][0])\n",
    "  converted = math.radians(angle)\n",
    "  print(json.dumps({'convertedAngle': converted}))"
   ]
  }
 ],
 "metadata": {
  "kernelspec": {
   "display_name": "Python 3",
   "language": "python",
   "name": "python3"
  },
  "language_info": {
   "codemirror_mode": {
    "name": "ipython",
    "version": 3
   },
   "file_extension": ".py",
   "mimetype": "text/x-python",
   "name": "python",
   "nbconvert_exporter": "python",
   "pygments_lexer": "ipython3",
   "version": "3.6.7"
  }
 },
 "nbformat": 4,
 "nbformat_minor": 2
}
