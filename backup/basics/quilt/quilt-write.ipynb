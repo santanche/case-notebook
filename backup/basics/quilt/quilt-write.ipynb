{
 "cells": [
  {
   "cell_type": "code",
   "execution_count": 2,
   "metadata": {},
   "outputs": [],
   "source": [
    "import quilt\n",
    "\n",
    "# creating a Pandas dataframe\n",
    "import pandas as pd\n",
    "d = {'col1': [1, 2], 'col2': [3, 4]}\n",
    "df=pd.DataFrame(data=d)"
   ]
  },
  {
   "cell_type": "code",
   "execution_count": 3,
   "metadata": {},
   "outputs": [
    {
     "name": "stdout",
     "output_type": "stream",
     "text": [
      "Launching a web browser...\n",
      "If that didn't work, please visit the following URL: https://pkg.quiltdata.com/login\n",
      "Failed to launch the browser: [Errno 2] No such file or directory: 'xdg-open': 'xdg-open'\n",
      "\n"
     ]
    },
    {
     "name": "stdin",
     "output_type": "stream",
     "text": [
      "Enter the code from the webpage:  eyJpZCI6ICIxM2Y3OTZhNy1mZDVmLTRmOGEtYTE3OC02NmFiNTc3ZWM3ODYiLCAiY29kZSI6ICIxY2ZhN2Y4OS0xZTgwLTRmNWUtYWRjOC0xYTA3NTQyNGNkZTQifQ==\n"
     ]
    },
    {
     "name": "stdout",
     "output_type": "stream",
     "text": [
      "Fetching upload URLs from the registry...\n"
     ]
    },
    {
     "name": "stderr",
     "output_type": "stream",
     "text": [
      "100%|██████████| 1.45k/1.45k [00:00<00:00, 7.97kB/s]"
     ]
    },
    {
     "name": "stdout",
     "output_type": "stream",
     "text": [
      "Uploading 1 fragments (1451 bytes)...\n",
      "Fragment 3e1d11f5ea12737cc2fa286134827dc7adeb38b40d2976e9b46d543ba0791af8 already uploaded; skipping.\n",
      "Uploading package metadata...\n"
     ]
    },
    {
     "name": "stderr",
     "output_type": "stream",
     "text": [
      "\n"
     ]
    },
    {
     "name": "stdout",
     "output_type": "stream",
     "text": [
      "Updating the 'latest' tag...\n",
      "Push complete. santanche/testpandas is live:\n",
      "https://quiltdata.com/package/santanche/testpandas\n"
     ]
    }
   ],
   "source": [
    "# serializing the dataframe in the path\n",
    "quilt.build(\"santanche/testpandas/table\", df)\n",
    "\n",
    "# pushing to Quilt\n",
    "quilt.login()\n",
    "quilt.push(\"santanche/testpandas\", is_public=True)"
   ]
  }
 ],
 "metadata": {
  "kernelspec": {
   "display_name": "Python 3",
   "language": "python",
   "name": "python3"
  },
  "language_info": {
   "codemirror_mode": {
    "name": "ipython",
    "version": 3
   },
   "file_extension": ".py",
   "mimetype": "text/x-python",
   "name": "python",
   "nbconvert_exporter": "python",
   "pygments_lexer": "ipython3",
   "version": "3.6.6"
  }
 },
 "nbformat": 4,
 "nbformat_minor": 2
}
