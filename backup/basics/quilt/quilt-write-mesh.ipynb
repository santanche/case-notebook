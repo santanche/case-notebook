{
 "cells": [
  {
   "cell_type": "code",
   "execution_count": 2,
   "metadata": {},
   "outputs": [
    {
     "name": "stdout",
     "output_type": "stream",
     "text": [
      "Launching a web browser...\n",
      "If that didn't work, please visit the following URL: https://pkg.quiltdata.com/login\n",
      "Failed to launch the browser: [Errno 2] No such file or directory: 'xdg-open': 'xdg-open'\n",
      "\n",
      "Enter the code from the webpage: eyJpZCI6ICIxM2Y3OTZhNy1mZDVmLTRmOGEtYTE3OC02NmFiNTc3ZWM3ODYiLCAiY29kZSI6ICJlYTQ3N2UxMy0wYWMyLTQ3Y2YtODI2ZC1hZTc0OGUyNjdmMzkifQ==\n",
      "Fetching upload URLs from the registry...\n"
     ]
    },
    {
     "name": "stderr",
     "output_type": "stream",
     "text": [
      "100%|██████████| 1.27M/1.27M [00:00<00:00, 6.78MB/s]"
     ]
    },
    {
     "name": "stdout",
     "output_type": "stream",
     "text": [
      "Uploading 1 fragments (1270032 bytes)...\n",
      "Fragment 6683bf8d32d35c3e9117ba28d281c4e512ae280c3df30f71501178ad097b73c4 already uploaded; skipping.\n",
      "Uploading package metadata...\n"
     ]
    },
    {
     "name": "stderr",
     "output_type": "stream",
     "text": [
      "\n"
     ]
    },
    {
     "name": "stdout",
     "output_type": "stream",
     "text": [
      "Push complete. santanche/ehealth/mesh/year2018 is live:\n",
      "https://quiltdata.com/package/santanche/ehealth\n"
     ]
    }
   ],
   "source": [
    "import quilt\n",
    "import pandas as pd\n",
    "df = pd.read_csv('../../../data/mesh/2018/mtrees2018.bin', sep=';', header=None, names=['mesh_heading','tree_number'])\n",
    "\n",
    "# serializing the dataframe in the path\n",
    "quilt.build(\"santanche/ehealth/mesh/year2018\", df)\n",
    "\n",
    "# pushing to Quilt\n",
    "quilt.login()\n",
    "quilt.push(\"santanche/ehealth/mesh/year2018\", is_public=True)"
   ]
  }
 ],
 "metadata": {
  "kernelspec": {
   "display_name": "Python 3",
   "language": "python",
   "name": "python3"
  }
 },
 "nbformat": 4,
 "nbformat_minor": 2
}
